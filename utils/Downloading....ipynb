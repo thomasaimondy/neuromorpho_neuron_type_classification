{
 "cells": [
  {
   "cell_type": "markdown",
   "metadata": {
    "collapsed": false
   },
   "source": [
    "### download swc file and related content file from neuromorpho.org\n",
    "### MySQL-python-1.2.3.win32-py2.7.exe \n",
    "### mysql-installer-community-5.7.21.0.msi\n",
    "### Navicat_for_MySQL_10.0.11.0.exe\n",
    "### usr: zhangtielin, passwd: zhangtielin, db: reconstruction, table: neuromorpho"
   ]
  },
  {
   "cell_type": "code",
   "execution_count": 16,
   "metadata": {
    "collapsed": false
   },
   "outputs": [
    {
     "name": "stdout",
     "output_type": "stream",
     "text": [
      "[{'Date of Upload': '2006-08-01', 'Total Length': '4911.5 mm', 'Number of Bifurcations': '47', 'Primary Article Reference': 'Age_related dendritic and spine changes in corticocortically projecting neurons in Macaque monkeys', 'Original Format': 'Neurozoom.txt', 'Morphological Attributes': 'Diameter, 3D, Angles', 'Primary Brain Region': 'neocortex', 'Slice Thickness': '400\\r mm', 'Note': 'When originally released, this reconstruction had been incompletely processed, and this issue was fixed in release 6.1 (May 2015). The pre-6.1 version of the processed file is available for download here.', 'Magnification': '100x', 'NeuroMorpho.Org ID': 'NMO_00001', 'Fractal Dimension': '1.02', 'Primary Cell Class': 'principal cell', 'Number of Stems': '6', 'Number of Branches': '100', 'Tertiary Cell Class': 'Local projecting', 'Development': 'old', 'Total Surface': '8842.91 mm2', 'Max Branch Order': '8', \"Average Rall's Ratio\": '1.53', 'Persistence Vector': 'cnic_001.pvec', 'Max Euclidean Distance': '224.62 mm', 'Partition Asymmetry': '0.41', 'Secondary Brain Region': 'prefrontal', 'Secondary Article Reference': 'Quantitative analysis of the dendritic morphology of corticocortical projection neuron in the macaque monkey association cortex', 'Min Weight': '4500 grams', 'Physical Integrity': 'Dendrites Moderate', 'Overall Depth': '84.73 mm', 'Max Weight': '10000 grams', 'Max Age': '25.0 years', 'Experiment Protocol': 'in vivo', 'swc': array([[  1.00000000e+00,   1.00000000e+00,   0.00000000e+00, ...,\n",
      "          0.00000000e+00,   8.14980000e+00,  -1.00000000e+00],\n",
      "       [  2.00000000e+00,   1.00000000e+00,   6.70000000e-01, ...,\n",
      "          0.00000000e+00,   8.14980000e+00,   1.00000000e+00],\n",
      "       [  3.00000000e+00,   1.00000000e+00,  -6.70000000e-01, ...,\n",
      "          0.00000000e+00,   8.14980000e+00,   1.00000000e+00],\n",
      "       ..., \n",
      "       [  1.27200000e+03,   4.00000000e+00,   5.61600000e+01, ...,\n",
      "          6.83000000e+01,   2.42710000e-01,   1.27100000e+03],\n",
      "       [  1.27300000e+03,   4.00000000e+00,   5.53100000e+01, ...,\n",
      "          7.52500000e+01,   2.34380000e-01,   1.27200000e+03],\n",
      "       [  1.27400000e+03,   4.00000000e+00,   5.64600000e+01, ...,\n",
      "          7.52500000e+01,   0.00000000e+00,   1.27300000e+03]]), 'Soma Surface': '834 mm2', 'Structural Domains': 'Dendrites, Soma, No Axon', 'Gender': 'Male/Female', 'Overall Height': '330.4 mm', 'Experimental Condition': 'Control', 'Date of Deposition': '2005-12-31', 'Min Age': '24.0 years', 'link in neuromorpho': 'http://neuromorpho.org/neuron_info.jsp?neuron_name=cnic_001', 'Total Fragmentation': '1274', 'Neuron Name': 'cnic_001', 'Secondary Cell Class': 'pyramidal', 'Staining Method': 'lucifer yellow', 'Average Diameter': '0.54 mm', 'Tissue Shrinkage': 'Reported (no values given)\\nNot corrected', 'Archive Name': 'Wearne_Hof', 'Reconstruction Method': 'Neurozoom', 'Overall Width': '230.78 mm', 'Total Volume': '4725.89 mm3', 'Strain': 'Rhesus', 'Tertiary Brain Region': 'layer 3', 'Objective Type': 'Not reported', 'Species Name': 'monkey', 'Slicing Direction': 'custom', 'Average Bifurcation Angle Remote': '50.46deg', 'Average Bifurcation Angle Local': '33.38deg', 'Max Path Distance': '253.92 mm', 'Average Contraction': '0.93'}]\n"
     ]
    }
   ],
   "source": [
    "# start should be start from 1.\n",
    "import thomas_download_neurmorpho as dnm\n",
    "# total is 101503 neurons\n",
    "\n",
    "neurons = dnm.download_neuromorpho(start_nmo=1, end_nmo=2,show_progress=False)\n",
    "#all_neuron = pd.DataFrame(all_neuron)\n",
    "\n",
    "print(neurons)\n",
    "# print(neurons[0].keys())\n",
    "\n",
    "if not neurons:\n",
    "    print('none')"
   ]
  },
  {
   "cell_type": "markdown",
   "metadata": {},
   "source": [
    "+----------------------------------+\n",
    "| COLUMN_NAME                      |\n",
    "+----------------------------------+\n",
    "| neuron_id                        |\n",
    "| NeuroMorpho_Org_ID               |\n",
    "| Neuron_Name                      |\n",
    "| Species_Name                     |\n",
    "| Date_of_Upload                   |\n",
    "| Total_Length                     |\n",
    "| Number_of_Bifurcations           |\n",
    "| Primary_Article_Reference        |\n",
    "| Primary_Brain_Region             |\n",
    "| Secondary_Brain_Region           |\n",
    "| Tertiary_Brain_Region            |\n",
    "| Primary_Cell_Class               |\n",
    "| Secondary_Cell_Class             |\n",
    "| Tertiary_Cell_Class              |\n",
    "| link_in_neuromorpho              |\n",
    "| swc                              |\n",
    "| Original_Format                  |\n",
    "| Morphological_Attributes         |\n",
    "| Slice_Thickness                  |\n",
    "| Note                             |\n",
    "| Magnification                    |\n",
    "| Fractal_Dimension                |\n",
    "| Number_of_Stems                  |\n",
    "| Number_of_Branches               |\n",
    "| Development                      |\n",
    "| Total_Surface                    |\n",
    "| Max_Branch_Order                 |\n",
    "| Average_Rall_s_Ratio             |\n",
    "| Persistence_Vector               |\n",
    "| Max_Euclidean_Distance           |\n",
    "| Partition_Asymmetry              |\n",
    "| Secondary_Article_Reference      |\n",
    "| Min_Weight                       |\n",
    "| Physical_Integrity               |\n",
    "| Overall_Depth                    |\n",
    "| Max_Weight                       |\n",
    "| Max_Age                          |\n",
    "| Experiment_Protocol              |\n",
    "| Soma_Surface                     |\n",
    "| Structural_Domains               |\n",
    "| Gender                           |\n",
    "| Overall_Height                   |\n",
    "| Experimental_Condition           |\n",
    "| Date_of_Deposition               |\n",
    "| Min_Age                          |\n",
    "| Total_Fragmentation              |\n",
    "| Staining_Method                  |\n",
    "| Average_Diameter                 |\n",
    "| Tissue_Shrinkage                 |\n",
    "| Archive_Name                     |\n",
    "| Reconstruction_Method            |\n",
    "| Overall_Width                    |\n",
    "| Total_Volume                     |\n",
    "| Strain                           |\n",
    "| Objective_Type                   |\n",
    "| Slicing_Direction                |\n",
    "| Average_Bifurcation_Angle_Remote |\n",
    "| Average_Bifurcation_Angle_Local  |\n",
    "| Max_Path_Distance                |\n",
    "| Average_Contraction              |\n",
    "+----------------------------------+"
   ]
  },
  {
   "cell_type": "code",
   "execution_count": null,
   "metadata": {
    "collapsed": true
   },
   "outputs": [],
   "source": [
    "# import pickle\n",
    "\n",
    "# with open('download_neuromopho_all.pkl', 'wb') as file:\n",
    "#         pickle.dump(neurons, file)"
   ]
  },
  {
   "cell_type": "code",
   "execution_count": 15,
   "metadata": {
    "collapsed": false
   },
   "outputs": [
    {
     "name": "stdout",
     "output_type": "stream",
     "text": [
      "1,5\n"
     ]
    }
   ],
   "source": [
    "print ','.join([i for i in ['1','5']])"
   ]
  },
  {
   "cell_type": "code",
   "execution_count": 6,
   "metadata": {
    "collapsed": false
   },
   "outputs": [
    {
     "name": "stdout",
     "output_type": "stream",
     "text": [
      "swc/1.txt\n"
     ]
    }
   ],
   "source": [
    "swc_filename = 'swc/'+str(1)+'.txt'\n",
    "print swc_filename"
   ]
  },
  {
   "cell_type": "code",
   "execution_count": null,
   "metadata": {
    "collapsed": false,
    "scrolled": false
   },
   "outputs": [
    {
     "name": "stdout",
     "output_type": "stream",
     "text": [
      "102534 102535 excepterror_102535\n",
      "102535 [] 102536 excepterror_102536\n",
      "102536 [] 102537 excepterror_102537\n",
      "102537 [] 102538 excepterror_102538\n",
      "102538 [] 102539 excepterror_102539\n",
      "102539 [] 102540 excepterror_102540\n",
      "102540 [] 102541 excepterror_102541\n",
      "102541 [] 102542 excepterror_102542\n",
      "102542 [] 102543 excepterror_102543\n",
      "102543 [] 102544 excepterror_102544\n",
      "102544 [] 102545"
     ]
    }
   ],
   "source": [
    "import MySQLdb\n",
    "import thomas_download_neurmorpho as dnm\n",
    "import time \n",
    "import datetime\n",
    "ite = 102534-1; # max is 102534\n",
    "while True:\n",
    "    ite = ite + 1\n",
    "    t0 = time.time()\n",
    "    db = MySQLdb.connect(\"localhost\", \"zhangtielin\", \"zhangtielin\", \"reconstruction\", charset='utf8' )\n",
    "    cursor = db.cursor()\n",
    "    print(ite),\n",
    "    database  = 'neuromorpho'\n",
    "    # check\n",
    "#     sql = 'select neuron_id from %s where neuron_id=%d' % (database, ite)\n",
    "#     cursor.execute(sql)\n",
    "#     result=cursor.fetchall()\n",
    "    t1 = time.time()\n",
    "#     if result:\n",
    "#         db.close()\n",
    "#         continue\n",
    "    # download\n",
    "    neurons = dnm.download_neuromorpho(start_nmo=ite, end_nmo=ite+1,show_progress=False)\n",
    "    t2 = time.time()\n",
    "    if not neurons:\n",
    "        print(ite),\n",
    "        print('[]'),\n",
    "        db.close()\n",
    "        continue\n",
    "    dic_neuron = neurons[0]\n",
    "#     save swc\n",
    "#     swc_filename = 'swc/'+str(ite)+'.txt'\n",
    "#     with open(swc_filename, 'w') as f:\n",
    "#         f.write(dic_neuron['swc'])\n",
    "#     dic_neuron['swc'] = 'NULL'\n",
    "    kvs = [(k, dic_neuron[k]) for k in dic_neuron.keys()]\n",
    "    sql = 'INSERT INTO %s(neuron_id,' % database + ','.join([str(i[0]).replace(' ', '_').replace('.','_').replace('\\'','_') for i in kvs])  \\\n",
    "          +') VALUES (%s,' % str(ite) + ','.join(['\\'' + str('%s' % i[1]).replace('\\'', '_') +  '\\'' for i in kvs]) + ');'\n",
    "#     with open('test.txt', 'w') as f:\n",
    "#         f.write(sql)\n",
    "#     print(sql)\n",
    "    try:\n",
    "        cursor.execute(sql)\n",
    "        db.commit()\n",
    "    except:\n",
    "        db.rollback()\n",
    "        print(str(ite)+'_rollback'),#  roll back\n",
    "        break\n",
    "    db.close()\n",
    "    t3 = time.time()\n",
    "#     print(int(t1-t0),int(t2-t1),int(t3-t2)),"
   ]
  },
  {
   "cell_type": "code",
   "execution_count": 6,
   "metadata": {
    "collapsed": false
   },
   "outputs": [
    {
     "name": "stdout",
     "output_type": "stream",
     "text": [
      "False\n"
     ]
    }
   ],
   "source": [
    "print(isinstance(1.0,int))"
   ]
  },
  {
   "cell_type": "code",
   "execution_count": 22,
   "metadata": {
    "collapsed": false,
    "scrolled": false
   },
   "outputs": [
    {
     "name": "stdout",
     "output_type": "stream",
     "text": [
      "1000 2000 3000 4000 5000 6000 7000 8000 9000 10000 11000 12000 13000 14000 15000 16000 17000 18000 19000 20000 21000 22000 23000 24000 25000 26000 27000 28000 29000 30000 31000 32000 33000 34000 35000 36000 37000 38000 39000 40000 41000 42000 43000 44000 45000 46000 47000 48000 49000 50000 51000 52000 53000 54000 55000 56000 57000 58000 59000 60000 61000 62000 63000 64000 65000 66000 67000 68000 69000 70000 71000 72000 73000 74000 75000 76000 77000 78000 79000 80000 81000 82000 83000 84000 85000 86000 87000 88000 89000 90000 91000 92000 93000 94000 95000 96000 97000 98000 99000 100000 101000 finish\n",
      "missing=17\n",
      "process=101483\n"
     ]
    }
   ],
   "source": [
    "# swc file will be further anallysised for Z-jump problem\n",
    "\n",
    "# (1) from sql database to swc file\n",
    "\n",
    "import MySQLdb\n",
    "import thomas_download_neurmorpho as dnm\n",
    "import time \n",
    "import datetime\n",
    "import codecs\n",
    "import numpy as np\n",
    "missing = 0 \n",
    "process = 0\n",
    "\n",
    "db = MySQLdb.connect(\"localhost\", \"zhangtielin\", \"zhangtielin\", \"reconstruction\", charset='utf8' )\n",
    "cursor = db.cursor()\n",
    "for ite in range(1,101500+1):# max is 102534(neuron_id),101500(id)\n",
    "#     if (ite>1000):\n",
    "#         break\n",
    "    t0 = time.time()\n",
    "    if (ite%1000==0):\n",
    "        print(ite),\n",
    "#     print(ite),\n",
    "    database  = 'neuromorpho'\n",
    "    sql = 'select neuron_id,swc from %s where id=%d' % (database, ite)  # maxium is 102534(neuron_id),101500(id)\n",
    "    cursor.execute(sql)\n",
    "    result=cursor.fetchall()\n",
    "    if result:\n",
    "#         print(result[0][0]),\n",
    "#         print(result[0][1]),\n",
    "        filename='F:/swcs/'+str(result[0][0])+'.swc'\n",
    "        with codecs.open(filename, \"w\", \"utf-8\") as file:\n",
    "            strdata = result[0][1]\n",
    "            strdata = strdata.replace(\"[[\",\"\")\n",
    "            strdata = strdata.replace(\"]]\",\"\")\n",
    "            strdata = strdata.replace(\"\\n\",\"\")\n",
    "            strdata = ' '.join(strdata.split())\n",
    "            lines = strdata.split(\"] [ \")\n",
    "            for line in lines:\n",
    "                items = []\n",
    "#                 print(line)\n",
    "                for xx in line.split(\" \"):\n",
    "                    if(xx):\n",
    "                        yy = float(xx);\n",
    "                        if (yy-int(yy)==0): # judge the integer\n",
    "                            items.append(int(yy));\n",
    "                        else:\n",
    "                            items.append(float(yy));\n",
    "#                 print(items)\n",
    "                arr = \" \".join([str(x) for x in items])\n",
    "                file.write(arr+\"\\n\")\n",
    "        process = process + 1\n",
    "    else:\n",
    "        missing = missing + 1\n",
    "        continue\n",
    "#     break\n",
    "    t1 = time.time()\n",
    "db.close()\n",
    "print('finish')\n",
    "print('missing='+str(missing))\n",
    "print('process='+str(process))"
   ]
  },
  {
   "cell_type": "code",
   "execution_count": 2,
   "metadata": {
    "collapsed": false
   },
   "outputs": [],
   "source": [
    "import codecs\n",
    "import numpy as np\n",
    "import os,shutil\n",
    "\n",
    "movdir = r\"F:\\swcs_all\"\n",
    "basedir = r\"F:\\fixed_swc\"\n",
    "# Walk through all files in the directory that contains the files to copy\n",
    "for root, dirs, files in os.walk(basedir):\n",
    "    for filename in files:\n",
    "        old_name = os.path.join( os.path.abspath(root), filename )\n",
    "        new_name =  os.path.join( movdir, filename.replace(\".fixed\",\"\") )\n",
    "        shutil.copy(old_name,new_name)"
   ]
  },
  {
   "cell_type": "code",
   "execution_count": 19,
   "metadata": {
    "collapsed": false
   },
   "outputs": [
    {
     "name": "stdout",
     "output_type": "stream",
     "text": [
      "4\n",
      "s\n",
      "s\n"
     ]
    }
   ],
   "source": [
    "aa = \" 2 3 \"\n",
    "bb = aa.split(\" \")\n",
    "print(len(bb))\n",
    "for i in bb:\n",
    "    if (i):\n",
    "        print(\"s\")"
   ]
  },
  {
   "cell_type": "code",
   "execution_count": 60,
   "metadata": {
    "collapsed": false
   },
   "outputs": [
    {
     "name": "stdout",
     "output_type": "stream",
     "text": [
      "False\n"
     ]
    }
   ],
   "source": [
    "print()"
   ]
  },
  {
   "cell_type": "code",
   "execution_count": 13,
   "metadata": {
    "collapsed": false
   },
   "outputs": [
    {
     "name": "stdout",
     "output_type": "stream",
     "text": [
      "1\n"
     ]
    }
   ],
   "source": [
    "print(10%9)"
   ]
  },
  {
   "cell_type": "code",
   "execution_count": null,
   "metadata": {
    "collapsed": false
   },
   "outputs": [],
   "source": [
    "print(1,2,3)"
   ]
  },
  {
   "cell_type": "code",
   "execution_count": 1,
   "metadata": {
    "collapsed": false
   },
   "outputs": [
    {
     "data": {
      "text/plain": [
       "[1]"
      ]
     },
     "execution_count": 1,
     "metadata": {},
     "output_type": "execute_result"
    }
   ],
   "source": [
    "# min 17130 , orginal swc in db\n",
    "de FROM runoob_tbl WHERE runoob_id=3;"
   ]
  },
  {
   "cell_type": "code",
   "execution_count": 12,
   "metadata": {
    "collapsed": false
   },
   "outputs": [
    {
     "name": "stdout",
     "output_type": "stream",
     "text": [
      "1 1 2\n",
      "157976\n"
     ]
    }
   ],
   "source": [
    "import MySQLdb\n",
    "import thomas_download_neurmorpho as dnm\n",
    "\n",
    "ite = 0;\n",
    "db = MySQLdb.connect(\"localhost\", \"zhangtielin\", \"zhangtielin\", \"reconstruction\", charset='utf8' )\n",
    "cursor = db.cursor()\n",
    "while True:\n",
    "    ite = ite + 1\n",
    "    print(ite),\n",
    "    database  = 'neuromorpho'\n",
    "    # check\n",
    "    sql = 'select neuron_id,swc from %s where id=%d' % (database, ite)\n",
    "    cursor.execute(sql)\n",
    "    result=cursor.fetchall()\n",
    "#     print(result[0]),\n",
    "    print(len(result)),\n",
    "    print(len(result[0]))\n",
    "    print(len(result[0][1]))\n",
    "    break\n",
    "    \n",
    "#     if result:\n",
    "#         continue\n",
    "#     if ite > 17130:\n",
    "#         print('finish'),\n",
    "#         print(ite),\n",
    "#         break\n",
    "# #     save swc\n",
    "# #     swc_filename = 'swc/'+str(ite)+'.txt'\n",
    "# #     with open(swc_filename, 'w') as f:\n",
    "# #         f.write(dic_neuron['swc'])\n",
    "# #     dic_neuron['swc'] = 'NULL'\n",
    "#     nullcount = 1\n",
    "db.close()"
   ]
  },
  {
   "cell_type": "code",
   "execution_count": null,
   "metadata": {
    "collapsed": true
   },
   "outputs": [],
   "source": []
  }
 ],
 "metadata": {
  "anaconda-cloud": {},
  "kernelspec": {
   "display_name": "Python [Root]",
   "language": "python",
   "name": "Python [Root]"
  },
  "language_info": {
   "codemirror_mode": {
    "name": "ipython",
    "version": 2
   },
   "file_extension": ".py",
   "mimetype": "text/x-python",
   "name": "python",
   "nbconvert_exporter": "python",
   "pygments_lexer": "ipython2",
   "version": "2.7.12"
  }
 },
 "nbformat": 4,
 "nbformat_minor": 0
}
